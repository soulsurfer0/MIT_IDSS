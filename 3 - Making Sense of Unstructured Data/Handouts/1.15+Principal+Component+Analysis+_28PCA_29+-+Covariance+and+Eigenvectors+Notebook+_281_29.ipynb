{
 "cells": [
  {
   "cell_type": "code",
   "execution_count": 1,
   "metadata": {
    "id": "a90c92d6"
   },
   "outputs": [],
   "source": [
    "# Importing libraries\n",
    "import pandas as pd\n",
    "import numpy as np\n",
    "\n",
    "# In Numpy we have a module linalg which can be used to find eigen values and vectors. \n",
    "# See the official documentation here: https://numpy.org/doc/stable/reference/generated/numpy.linalg.eig.html\n",
    "from numpy import linalg"
   ]
  },
  {
   "cell_type": "markdown",
   "metadata": {
    "id": "bf88f73d"
   },
   "source": [
    "**Here is the documentation for linalg:** https://numpy.org/doc/stable/reference/generated/numpy.linalg.eig.html"
   ]
  },
  {
   "cell_type": "code",
   "execution_count": 2,
   "metadata": {
    "id": "939d9165"
   },
   "outputs": [],
   "source": [
    "# Making the data\n",
    "data={'Alp':[20,10,13,1,18,4],'Himalaya':[4,2,1,13,10,20],'Hawaii':[16,18,19,7,10,0],'Scuba':[0,10,7,19,2,16]}"
   ]
  },
  {
   "cell_type": "code",
   "execution_count": 3,
   "metadata": {
    "id": "6bb9986a"
   },
   "outputs": [],
   "source": [
    "# Changing the data to a dataframe\n",
    "df=pd.DataFrame(data,index=['Anne','Bill','Chris','Jen','Joe','Maggie'])"
   ]
  },
  {
   "cell_type": "code",
   "execution_count": 4,
   "metadata": {
    "id": "cae1050f",
    "outputId": "907fc9e6-324c-4a34-b5c1-04a29c4061ec"
   },
   "outputs": [
    {
     "data": {
      "text/html": [
       "<div>\n",
       "<style scoped>\n",
       "    .dataframe tbody tr th:only-of-type {\n",
       "        vertical-align: middle;\n",
       "    }\n",
       "\n",
       "    .dataframe tbody tr th {\n",
       "        vertical-align: top;\n",
       "    }\n",
       "\n",
       "    .dataframe thead th {\n",
       "        text-align: right;\n",
       "    }\n",
       "</style>\n",
       "<table border=\"1\" class=\"dataframe\">\n",
       "  <thead>\n",
       "    <tr style=\"text-align: right;\">\n",
       "      <th></th>\n",
       "      <th>Alp</th>\n",
       "      <th>Himalaya</th>\n",
       "      <th>Hawaii</th>\n",
       "      <th>Scuba</th>\n",
       "    </tr>\n",
       "  </thead>\n",
       "  <tbody>\n",
       "    <tr>\n",
       "      <th>Anne</th>\n",
       "      <td>20</td>\n",
       "      <td>4</td>\n",
       "      <td>16</td>\n",
       "      <td>0</td>\n",
       "    </tr>\n",
       "    <tr>\n",
       "      <th>Bill</th>\n",
       "      <td>10</td>\n",
       "      <td>2</td>\n",
       "      <td>18</td>\n",
       "      <td>10</td>\n",
       "    </tr>\n",
       "    <tr>\n",
       "      <th>Chris</th>\n",
       "      <td>13</td>\n",
       "      <td>1</td>\n",
       "      <td>19</td>\n",
       "      <td>7</td>\n",
       "    </tr>\n",
       "    <tr>\n",
       "      <th>Jen</th>\n",
       "      <td>1</td>\n",
       "      <td>13</td>\n",
       "      <td>7</td>\n",
       "      <td>19</td>\n",
       "    </tr>\n",
       "    <tr>\n",
       "      <th>Joe</th>\n",
       "      <td>18</td>\n",
       "      <td>10</td>\n",
       "      <td>10</td>\n",
       "      <td>2</td>\n",
       "    </tr>\n",
       "    <tr>\n",
       "      <th>Maggie</th>\n",
       "      <td>4</td>\n",
       "      <td>20</td>\n",
       "      <td>0</td>\n",
       "      <td>16</td>\n",
       "    </tr>\n",
       "  </tbody>\n",
       "</table>\n",
       "</div>"
      ],
      "text/plain": [
       "        Alp  Himalaya  Hawaii  Scuba\n",
       "Anne     20         4      16      0\n",
       "Bill     10         2      18     10\n",
       "Chris    13         1      19      7\n",
       "Jen       1        13       7     19\n",
       "Joe      18        10      10      2\n",
       "Maggie    4        20       0     16"
      ]
     },
     "execution_count": 4,
     "metadata": {},
     "output_type": "execute_result"
    }
   ],
   "source": [
    "# Displaying the data\n",
    "df "
   ]
  },
  {
   "cell_type": "code",
   "execution_count": 5,
   "metadata": {
    "id": "cb857b26",
    "outputId": "2ec4781a-77f9-4df7-f296-725ecc168d7a"
   },
   "outputs": [
    {
     "data": {
      "text/html": [
       "<div>\n",
       "<style scoped>\n",
       "    .dataframe tbody tr th:only-of-type {\n",
       "        vertical-align: middle;\n",
       "    }\n",
       "\n",
       "    .dataframe tbody tr th {\n",
       "        vertical-align: top;\n",
       "    }\n",
       "\n",
       "    .dataframe thead th {\n",
       "        text-align: right;\n",
       "    }\n",
       "</style>\n",
       "<table border=\"1\" class=\"dataframe\">\n",
       "  <thead>\n",
       "    <tr style=\"text-align: right;\">\n",
       "      <th></th>\n",
       "      <th>Alp</th>\n",
       "      <th>Himalaya</th>\n",
       "      <th>Hawaii</th>\n",
       "      <th>Scuba</th>\n",
       "    </tr>\n",
       "  </thead>\n",
       "  <tbody>\n",
       "    <tr>\n",
       "      <th>Alp</th>\n",
       "      <td>56.8</td>\n",
       "      <td>-32.800000</td>\n",
       "      <td>32.800000</td>\n",
       "      <td>-56.8</td>\n",
       "    </tr>\n",
       "    <tr>\n",
       "      <th>Himalaya</th>\n",
       "      <td>-32.8</td>\n",
       "      <td>54.666667</td>\n",
       "      <td>-54.666667</td>\n",
       "      <td>32.8</td>\n",
       "    </tr>\n",
       "    <tr>\n",
       "      <th>Hawaii</th>\n",
       "      <td>32.8</td>\n",
       "      <td>-54.666667</td>\n",
       "      <td>54.666667</td>\n",
       "      <td>-32.8</td>\n",
       "    </tr>\n",
       "    <tr>\n",
       "      <th>Scuba</th>\n",
       "      <td>-56.8</td>\n",
       "      <td>32.800000</td>\n",
       "      <td>-32.800000</td>\n",
       "      <td>56.8</td>\n",
       "    </tr>\n",
       "  </tbody>\n",
       "</table>\n",
       "</div>"
      ],
      "text/plain": [
       "           Alp   Himalaya     Hawaii  Scuba\n",
       "Alp       56.8 -32.800000  32.800000  -56.8\n",
       "Himalaya -32.8  54.666667 -54.666667   32.8\n",
       "Hawaii    32.8 -54.666667  54.666667  -32.8\n",
       "Scuba    -56.8  32.800000 -32.800000   56.8"
      ]
     },
     "execution_count": 5,
     "metadata": {},
     "output_type": "execute_result"
    }
   ],
   "source": [
    "# Finding the Covariance Matrix\n",
    "\n",
    "df.cov()"
   ]
  },
  {
   "cell_type": "code",
   "execution_count": 6,
   "metadata": {
    "id": "779bc8b1",
    "outputId": "70a51985-a5e7-4abf-d13f-de36aa4c87f5"
   },
   "outputs": [
    {
     "name": "stdout",
     "output_type": "stream",
     "text": [
      "Printing Eigenvalues: \n",
      "[ 1.77101346e+02 -1.54171923e-14  4.58319875e+01  2.43716086e-15]\n"
     ]
    }
   ],
   "source": [
    "# Printing the eigenvalues\n",
    "# linalg.eigvals() is use to find the eigenvalues and eigenvectors of a matrix\n",
    "\n",
    "w, v = linalg.eig(df.cov())\n",
    "print(\"Printing Eigenvalues: \")\n",
    "print(w)"
   ]
  },
  {
   "cell_type": "code",
   "execution_count": 7,
   "metadata": {
    "id": "1fac5d33",
    "outputId": "5edcb9f6-c46c-4893-dffa-f27d0c505d52"
   },
   "outputs": [
    {
     "name": "stdout",
     "output_type": "stream",
     "text": [
      "Printing Eigenvectors: \n",
      "[[-5.08060809e-01  7.07106781e-01  4.91807091e-01  7.13771691e-02]\n",
      " [ 4.91807091e-01  2.50227821e-16  5.08060809e-01 -7.03495060e-01]\n",
      " [-4.91807091e-01 -2.90939598e-16 -5.08060809e-01 -7.03495060e-01]\n",
      " [ 5.08060809e-01  7.07106781e-01 -4.91807091e-01  7.13771691e-02]]\n"
     ]
    }
   ],
   "source": [
    "print(\"Printing Eigenvectors: \")\n",
    "print(v)"
   ]
  },
  {
   "cell_type": "markdown",
   "metadata": {
    "id": "c928612d"
   },
   "source": [
    "* As we have 2 dimensions in the data, there will be 2 eigenvectors and 2 corresponding eigenvalues.\n",
    "* The two eigenvectors with the highest eigenvalues are taken as the principal components."
   ]
  },
  {
   "cell_type": "code",
   "execution_count": 14,
   "metadata": {
    "id": "087be702",
    "outputId": "a37042d0-85a1-486a-eb1b-68ce7939189c"
   },
   "outputs": [
    {
     "name": "stdout",
     "output_type": "stream",
     "text": [
      "[-0.5080608089947457, 0.4918070905991539, -0.49180709059915395, 0.5080608089947458]\n",
      "[0.4918070905991542, 0.5080608089947455, -0.5080608089947455, -0.4918070905991542]\n"
     ]
    }
   ],
   "source": [
    "# The components are \n",
    "print([i[0] for i in v])\n",
    "print([i[2] for i in v])"
   ]
  },
  {
   "cell_type": "code",
   "execution_count": 9,
   "metadata": {
    "id": "0d500357",
    "outputId": "f36d7ff9-56eb-4009-f73b-009bd786191e"
   },
   "outputs": [
    {
     "name": "stdout",
     "output_type": "stream",
     "text": [
      "[[-1.  1.  0.  0.]\n",
      " [ 0.  0.  1. -1.]\n",
      " [-0. -0. -1. -1.]\n",
      " [ 1.  1. -0.  0.]]\n"
     ]
    }
   ],
   "source": [
    "print(v.round())"
   ]
  },
  {
   "cell_type": "markdown",
   "metadata": {
    "id": "5d57e3b2"
   },
   "source": [
    "### Using the sklearn library"
   ]
  },
  {
   "cell_type": "code",
   "execution_count": 10,
   "metadata": {
    "id": "18547b93"
   },
   "outputs": [],
   "source": [
    "from sklearn.decomposition import PCA"
   ]
  },
  {
   "cell_type": "markdown",
   "metadata": {
    "id": "d97d497f"
   },
   "source": [
    "**Here is the documentation for PCA:** https://scikit-learn.org/stable/modules/generated/sklearn.decomposition.PCA.html"
   ]
  },
  {
   "cell_type": "code",
   "execution_count": 11,
   "metadata": {
    "id": "6a51bc13"
   },
   "outputs": [],
   "source": [
    "# Defining the number of principal components to generate \n",
    "n = 2"
   ]
  },
  {
   "cell_type": "code",
   "execution_count": 12,
   "metadata": {
    "id": "489ca6d9",
    "outputId": "d3ddfff9-21c7-4b10-f2b2-32796471d695"
   },
   "outputs": [
    {
     "data": {
      "text/plain": [
       "PCA(n_components=2)"
      ]
     },
     "execution_count": 12,
     "metadata": {},
     "output_type": "execute_result"
    }
   ],
   "source": [
    "pca = PCA(n_components=n)\n",
    "pca.fit(df)"
   ]
  },
  {
   "cell_type": "code",
   "execution_count": 15,
   "metadata": {
    "id": "4b7bdfda",
    "outputId": "f97c7e55-ca30-4aca-cdbf-b3929b42963d"
   },
   "outputs": [
    {
     "name": "stdout",
     "output_type": "stream",
     "text": [
      "[[-0.50806081  0.49180709 -0.49180709  0.50806081]\n",
      " [ 0.49180709  0.50806081 -0.50806081 -0.49180709]]\n"
     ]
    }
   ],
   "source": [
    "# Printing the components\n",
    "print(pca.components_)"
   ]
  },
  {
   "cell_type": "code",
   "execution_count": null,
   "metadata": {},
   "outputs": [],
   "source": []
  }
 ],
 "metadata": {
  "colab": {
   "collapsed_sections": [],
   "name": "1.15 Principal Component Analysis (PCA) - Covariance and Eigenvectors Notebook.ipynb",
   "provenance": []
  },
  "kernelspec": {
   "display_name": "Python 3",
   "language": "python",
   "name": "python3"
  },
  "language_info": {
   "codemirror_mode": {
    "name": "ipython",
    "version": 3
   },
   "file_extension": ".py",
   "mimetype": "text/x-python",
   "name": "python",
   "nbconvert_exporter": "python",
   "pygments_lexer": "ipython3",
   "version": "3.8.3"
  }
 },
 "nbformat": 4,
 "nbformat_minor": 5
}
